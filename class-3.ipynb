{
 "cells": [
  {
   "cell_type": "markdown",
   "metadata": {},
   "source": [
    "## Working with Images & Logistic Regression in PyTorch\n"
   ]
  },
  {
   "cell_type": "code",
   "execution_count": 1,
   "metadata": {},
   "outputs": [],
   "source": [
    "# Imports\n",
    "import torch\n",
    "import torchvision\n",
    "from torchvision.datasets import MNIST"
   ]
  },
  {
   "cell_type": "code",
   "execution_count": 2,
   "metadata": {},
   "outputs": [
    {
     "name": "stdout",
     "output_type": "stream",
     "text": [
      "Downloading http://yann.lecun.com/exdb/mnist/train-images-idx3-ubyte.gz\n",
      "Failed to download (trying next):\n",
      "HTTP Error 403: Forbidden\n",
      "\n",
      "Downloading https://ossci-datasets.s3.amazonaws.com/mnist/train-images-idx3-ubyte.gz\n",
      "Downloading https://ossci-datasets.s3.amazonaws.com/mnist/train-images-idx3-ubyte.gz to ../GANS/MNIST\\raw\\train-images-idx3-ubyte.gz\n"
     ]
    },
    {
     "name": "stderr",
     "output_type": "stream",
     "text": [
      "100%|██████████| 9912422/9912422 [08:43<00:00, 18943.65it/s]\n"
     ]
    },
    {
     "name": "stdout",
     "output_type": "stream",
     "text": [
      "Extracting ../GANS/MNIST\\raw\\train-images-idx3-ubyte.gz to ../GANS/MNIST\\raw\n",
      "\n",
      "Downloading http://yann.lecun.com/exdb/mnist/train-labels-idx1-ubyte.gz\n",
      "Failed to download (trying next):\n",
      "HTTP Error 403: Forbidden\n",
      "\n",
      "Downloading https://ossci-datasets.s3.amazonaws.com/mnist/train-labels-idx1-ubyte.gz\n",
      "Downloading https://ossci-datasets.s3.amazonaws.com/mnist/train-labels-idx1-ubyte.gz to ../GANS/MNIST\\raw\\train-labels-idx1-ubyte.gz\n"
     ]
    },
    {
     "name": "stderr",
     "output_type": "stream",
     "text": [
      "100%|██████████| 28881/28881 [00:00<00:00, 105662.02it/s]\n"
     ]
    },
    {
     "name": "stdout",
     "output_type": "stream",
     "text": [
      "Extracting ../GANS/MNIST\\raw\\train-labels-idx1-ubyte.gz to ../GANS/MNIST\\raw\n",
      "\n",
      "Downloading http://yann.lecun.com/exdb/mnist/t10k-images-idx3-ubyte.gz\n",
      "Failed to download (trying next):\n",
      "HTTP Error 403: Forbidden\n",
      "\n",
      "Downloading https://ossci-datasets.s3.amazonaws.com/mnist/t10k-images-idx3-ubyte.gz\n",
      "Downloading https://ossci-datasets.s3.amazonaws.com/mnist/t10k-images-idx3-ubyte.gz to ../GANS/MNIST\\raw\\t10k-images-idx3-ubyte.gz\n"
     ]
    },
    {
     "name": "stderr",
     "output_type": "stream",
     "text": [
      "100%|██████████| 1648877/1648877 [00:02<00:00, 761343.09it/s]\n"
     ]
    },
    {
     "name": "stdout",
     "output_type": "stream",
     "text": [
      "Extracting ../GANS/MNIST\\raw\\t10k-images-idx3-ubyte.gz to ../GANS/MNIST\\raw\n",
      "\n",
      "Downloading http://yann.lecun.com/exdb/mnist/t10k-labels-idx1-ubyte.gz\n",
      "Failed to download (trying next):\n",
      "HTTP Error 403: Forbidden\n",
      "\n",
      "Downloading https://ossci-datasets.s3.amazonaws.com/mnist/t10k-labels-idx1-ubyte.gz\n",
      "Downloading https://ossci-datasets.s3.amazonaws.com/mnist/t10k-labels-idx1-ubyte.gz to ../GANS/MNIST\\raw\\t10k-labels-idx1-ubyte.gz\n"
     ]
    },
    {
     "name": "stderr",
     "output_type": "stream",
     "text": [
      "100%|██████████| 4542/4542 [00:00<00:00, 1136395.18it/s]\n"
     ]
    },
    {
     "name": "stdout",
     "output_type": "stream",
     "text": [
      "Extracting ../GANS/MNIST\\raw\\t10k-labels-idx1-ubyte.gz to ../GANS/MNIST\\raw\n",
      "\n"
     ]
    }
   ],
   "source": [
    "dataset = MNIST(root='../GANS/', download=True)"
   ]
  },
  {
   "cell_type": "code",
   "execution_count": 3,
   "metadata": {},
   "outputs": [
    {
     "data": {
      "text/plain": [
       "60000"
      ]
     },
     "execution_count": 3,
     "metadata": {},
     "output_type": "execute_result"
    }
   ],
   "source": [
    "len(dataset)"
   ]
  },
  {
   "cell_type": "code",
   "execution_count": 4,
   "metadata": {},
   "outputs": [
    {
     "data": {
      "text/plain": [
       "10000"
      ]
     },
     "execution_count": 4,
     "metadata": {},
     "output_type": "execute_result"
    }
   ],
   "source": [
    "test_dataset = MNIST(root='../GANS/', train=False)\n",
    "len(test_dataset)"
   ]
  },
  {
   "cell_type": "code",
   "execution_count": 5,
   "metadata": {},
   "outputs": [
    {
     "data": {
      "text/plain": [
       "(<PIL.Image.Image image mode=L size=28x28>, 5)"
      ]
     },
     "execution_count": 5,
     "metadata": {},
     "output_type": "execute_result"
    }
   ],
   "source": [
    "dataset[0]"
   ]
  },
  {
   "cell_type": "code",
   "execution_count": 6,
   "metadata": {},
   "outputs": [],
   "source": [
    "import matplotlib.pyplot as plt\n",
    "%matplotlib inline"
   ]
  },
  {
   "cell_type": "code",
   "execution_count": 7,
   "metadata": {},
   "outputs": [
    {
     "name": "stdout",
     "output_type": "stream",
     "text": [
      "Label: 5\n"
     ]
    },
    {
     "data": {
      "image/png": "[encoded data removed]",
      "text/plain": [
       "<Figure size 640x480 with 1 Axes>"
      ]
     },
     "metadata": {},
     "output_type": "display_data"
    }
   ],
   "source": [
    "image, label = dataset[0]\n",
    "plt.imshow(image, cmap='gray')\n",
    "print('Label:', label)"
   ]
  },
  {
   "cell_type": "code",
   "execution_count": 8,
   "metadata": {},
   "outputs": [
    {
     "name": "stdout",
     "output_type": "stream",
     "text": [
      "Label: 3\n"
     ]
    },
    {
     "data": {
      "image/png": "[encoded data removed]",
      "text/plain": [
       "<Figure size 640x480 with 1 Axes>"
      ]
     },
     "metadata": {},
     "output_type": "display_data"
    }
   ],
   "source": [
    "image, label = dataset[10]\n",
    "plt.imshow(image, cmap='gray')\n",
    "print('Label:', label)"
   ]
  },
  {
   "cell_type": "code",
   "execution_count": 9,
   "metadata": {},
   "outputs": [],
   "source": [
    "import torchvision.transforms as transforms"
   ]
  },
  {
   "cell_type": "code",
   "execution_count": 10,
   "metadata": {},
   "outputs": [],
   "source": [
    "# MNIST dataset (images and labels)\n",
    "dataset = MNIST(root='../GANS/', \n",
    "                train=True,\n",
    "                transform=transforms.ToTensor())"
   ]
  },
  {
   "cell_type": "code",
   "execution_count": 11,
   "metadata": {},
   "outputs": [
    {
     "name": "stdout",
     "output_type": "stream",
     "text": [
      "torch.Size([1, 28, 28]) 5\n"
     ]
    }
   ],
   "source": [
    "img_tensor, label = dataset[0]\n",
    "print(img_tensor.shape, label)"
   ]
  },
  {
   "cell_type": "code",
   "execution_count": 13,
   "metadata": {},
   "outputs": [
    {
     "name": "stdout",
     "output_type": "stream",
     "text": [
      "tensor([[0.0039, 0.6039, 0.9922, 0.3529, 0.0000],\n",
      "        [0.0000, 0.5451, 0.9922, 0.7451, 0.0078],\n",
      "        [0.0000, 0.0431, 0.7451, 0.9922, 0.2745],\n",
      "        [0.0000, 0.0000, 0.1373, 0.9451, 0.8824],\n",
      "        [0.0000, 0.0000, 0.0000, 0.3176, 0.9412]])\n",
      "tensor(1.) tensor(0.)\n"
     ]
    }
   ],
   "source": [
    "print(img_tensor[0,10:15,10:15])\n",
    "print(torch.max(img_tensor), torch.min(img_tensor))"
   ]
  },
  {
   "cell_type": "code",
   "execution_count": 14,
   "metadata": {},
   "outputs": [
    {
     "data": {
      "image/png": "[encoded data removed]",
      "text/plain": [
       "<Figure size 640x480 with 1 Axes>"
      ]
     },
     "metadata": {},
     "output_type": "display_data"
    }
   ],
   "source": [
    "# Plot the image by passing in the 28x28 matrix\n",
    "plt.imshow(img_tensor[0,10:15,10:15], cmap='gray');"
   ]
  },
  {
   "cell_type": "markdown",
   "metadata": {},
   "source": [
    "## Training and Validation Datasets\n"
   ]
  },
  {
   "cell_type": "code",
   "execution_count": 15,
   "metadata": {},
   "outputs": [
    {
     "data": {
      "text/plain": [
       "(50000, 10000)"
      ]
     },
     "execution_count": 15,
     "metadata": {},
     "output_type": "execute_result"
    }
   ],
   "source": [
    "from torch.utils.data import random_split\n",
    "\n",
    "train_ds, val_ds = random_split(dataset, [50000, 10000])\n",
    "len(train_ds), len(val_ds)"
   ]
  },
  {
   "cell_type": "code",
   "execution_count": 16,
   "metadata": {},
   "outputs": [],
   "source": [
    "from torch.utils.data import DataLoader\n",
    "\n",
    "batch_size = 128\n",
    "\n",
    "train_loader = DataLoader(train_ds, batch_size, shuffle=True)\n",
    "val_loader = DataLoader(val_ds, batch_size)"
   ]
  },
  {
   "cell_type": "markdown",
   "metadata": {},
   "source": [
    "#### Model\n"
   ]
  },
  {
   "cell_type": "code",
   "execution_count": 17,
   "metadata": {},
   "outputs": [],
   "source": [
    "import torch.nn as nn\n",
    "\n",
    "input_size = 28*28\n",
    "num_classes = 10\n",
    "\n",
    "# Logistic regression model\n",
    "model = nn.Linear(input_size, num_classes)"
   ]
  },
  {
   "cell_type": "code",
   "execution_count": 18,
   "metadata": {},
   "outputs": [
    {
     "name": "stdout",
     "output_type": "stream",
     "text": [
      "torch.Size([10, 784])\n"
     ]
    },
    {
     "data": {
      "text/plain": [
       "Parameter containing:\n",
       "tensor([[ 0.0218, -0.0356, -0.0333,  ..., -0.0160, -0.0346,  0.0241],\n",
       "        [-0.0185,  0.0287, -0.0332,  ...,  0.0037,  0.0151,  0.0067],\n",
       "        [ 0.0144, -0.0097, -0.0327,  ..., -0.0186, -0.0096, -0.0279],\n",
       "        ...,\n",
       "        [-0.0022, -0.0036, -0.0062,  ...,  0.0350,  0.0138, -0.0272],\n",
       "        [ 0.0067, -0.0024, -0.0164,  ..., -0.0154,  0.0212,  0.0260],\n",
       "        [-0.0255, -0.0307, -0.0319,  ...,  0.0009,  0.0027,  0.0294]],\n",
       "       requires_grad=True)"
      ]
     },
     "execution_count": 18,
     "metadata": {},
     "output_type": "execute_result"
    }
   ],
   "source": [
    "print(model.weight.shape)\n",
    "model.weight"
   ]
  },
  {
   "cell_type": "code",
   "execution_count": 19,
   "metadata": {},
   "outputs": [
    {
     "name": "stdout",
     "output_type": "stream",
     "text": [
      "torch.Size([10])\n"
     ]
    },
    {
     "data": {
      "text/plain": [
       "Parameter containing:\n",
       "tensor([ 0.0163, -0.0003, -0.0228, -0.0090, -0.0107,  0.0288, -0.0191, -0.0138,\n",
       "         0.0161,  0.0220], requires_grad=True)"
      ]
     },
     "execution_count": 19,
     "metadata": {},
     "output_type": "execute_result"
    }
   ],
   "source": [
    "print(model.bias.shape)\n",
    "model.bias"
   ]
  },
  {
   "cell_type": "code",
   "execution_count": 69,
   "metadata": {},
   "outputs": [
    {
     "name": "stdout",
     "output_type": "stream",
     "text": [
      "tensor([1, 9, 4, 7, 1, 1, 6, 2, 6, 9, 4, 0, 5, 2, 2, 5, 5, 8, 5, 5, 1, 7, 6, 1,\n",
      "        6, 0, 4, 7, 5, 1, 9, 9, 3, 2, 3, 2, 8, 8, 1, 4, 2, 0, 2, 1, 8, 5, 3, 3,\n",
      "        0, 5, 8, 0, 4, 5, 5, 4, 9, 7, 4, 5, 4, 2, 8, 0, 0, 0, 3, 4, 1, 2, 1, 2,\n",
      "        6, 2, 0, 9, 2, 6, 7, 8, 0, 7, 7, 7, 0, 4, 5, 9, 9, 7, 1, 7, 2, 7, 9, 7,\n",
      "        2, 8, 3, 3, 7, 1, 6, 9, 6, 1, 9, 6, 2, 5, 2, 2, 4, 8, 5, 9, 6, 9, 8, 5,\n",
      "        1, 7, 4, 7, 9, 3, 9, 7])\n",
      "torch.Size([128, 1, 28, 28])\n",
      "tensor([[-1.4438,  2.5384, -0.1360,  ..., -0.4895,  0.4458, -0.1924],\n",
      "        [-1.8897, -1.1790, -1.2134,  ...,  1.4510,  1.3613,  2.9514],\n",
      "        [ 0.5386, -2.1198,  1.0032,  ...,  0.7525, -1.0534, -0.0281],\n",
      "        ...,\n",
      "        [-2.0058,  2.1130,  0.5807,  ..., -0.0790,  0.4382,  0.2640],\n",
      "        [-1.4232,  1.6624,  0.4060,  ...,  1.9071,  0.3299,  0.6155],\n",
      "        [-0.6714, -1.9274, -0.7408,  ...,  5.9884, -0.1311,  1.7136]],\n",
      "       grad_fn=<AddmmBackward0>)\n"
     ]
    }
   ],
   "source": [
    "for images, labels in train_loader:\n",
    "    print(labels)\n",
    "    print(images.shape)\n",
    "    outputs = model(images)\n",
    "    print(outputs)\n",
    "    break"
   ]
  },
  {
   "cell_type": "code",
   "execution_count": 21,
   "metadata": {},
   "outputs": [
    {
     "data": {
      "text/plain": [
       "torch.Size([128, 1, 28, 28])"
      ]
     },
     "execution_count": 21,
     "metadata": {},
     "output_type": "execute_result"
    }
   ],
   "source": [
    "images.shape"
   ]
  },
  {
   "cell_type": "code",
   "execution_count": 22,
   "metadata": {},
   "outputs": [
    {
     "data": {
      "text/plain": [
       "torch.Size([128, 784])"
      ]
     },
     "execution_count": 22,
     "metadata": {},
     "output_type": "execute_result"
    }
   ],
   "source": [
    "images.reshape(128, 784).shape"
   ]
  },
  {
   "cell_type": "code",
   "execution_count": 24,
   "metadata": {},
   "outputs": [],
   "source": [
    "class MnistModel(nn.Module):\n",
    "    def __init__(self):\n",
    "        super().__init__()\n",
    "        self.linear = nn.Linear(input_size, num_classes)\n",
    "        \n",
    "    def forward(self, xb):\n",
    "        xb = xb.reshape(-1, 784)\n",
    "        out = self.linear(xb)\n",
    "        return out\n",
    "    \n",
    "model = MnistModel()"
   ]
  },
  {
   "cell_type": "code",
   "execution_count": 25,
   "metadata": {},
   "outputs": [
    {
     "data": {
      "text/plain": [
       "Linear(in_features=784, out_features=10, bias=True)"
      ]
     },
     "execution_count": 25,
     "metadata": {},
     "output_type": "execute_result"
    }
   ],
   "source": [
    "model.linear"
   ]
  },
  {
   "cell_type": "code",
   "execution_count": 26,
   "metadata": {},
   "outputs": [
    {
     "name": "stdout",
     "output_type": "stream",
     "text": [
      "torch.Size([10, 784]) torch.Size([10])\n"
     ]
    },
    {
     "data": {
      "text/plain": [
       "[Parameter containing:\n",
       " tensor([[-0.0217, -0.0068,  0.0348,  ..., -0.0172,  0.0088, -0.0309],\n",
       "         [-0.0255, -0.0250,  0.0332,  ..., -0.0288,  0.0037, -0.0305],\n",
       "         [ 0.0079, -0.0229, -0.0166,  ...,  0.0338,  0.0231,  0.0148],\n",
       "         ...,\n",
       "         [-0.0274, -0.0235, -0.0008,  ...,  0.0262, -0.0173, -0.0012],\n",
       "         [ 0.0129, -0.0259,  0.0020,  ...,  0.0221, -0.0013, -0.0289],\n",
       "         [-0.0259, -0.0270, -0.0296,  ..., -0.0140, -0.0045, -0.0087]],\n",
       "        requires_grad=True),\n",
       " Parameter containing:\n",
       " tensor([-0.0182, -0.0214,  0.0264,  0.0023, -0.0082, -0.0289, -0.0188,  0.0047,\n",
       "         -0.0104, -0.0295], requires_grad=True)]"
      ]
     },
     "execution_count": 26,
     "metadata": {},
     "output_type": "execute_result"
    }
   ],
   "source": [
    "print(model.linear.weight.shape, model.linear.bias.shape)\n",
    "list(model.parameters())"
   ]
  },
  {
   "cell_type": "code",
   "execution_count": 27,
   "metadata": {},
   "outputs": [
    {
     "name": "stdout",
     "output_type": "stream",
     "text": [
      "torch.Size([128, 1, 28, 28])\n",
      "outputs.shape :  torch.Size([128, 10])\n",
      "Sample outputs :\n",
      " tensor([[ 0.0322,  0.1030,  0.0101, -0.1954,  0.1204, -0.0083, -0.1316,  0.1248,\n",
      "         -0.0175, -0.3583],\n",
      "        [-0.2806, -0.2267, -0.5818, -0.0242, -0.0499,  0.0145, -0.0024,  0.0357,\n",
      "          0.1152, -0.1263]])\n"
     ]
    }
   ],
   "source": [
    "for images, labels in train_loader:\n",
    "    print(images.shape)\n",
    "    outputs = model(images)\n",
    "    break\n",
    "\n",
    "print('outputs.shape : ', outputs.shape)\n",
    "print('Sample outputs :\\n', outputs[:2].data)"
   ]
  },
  {
   "cell_type": "code",
   "execution_count": 28,
   "metadata": {},
   "outputs": [],
   "source": [
    "import torch.nn.functional as F"
   ]
  },
  {
   "cell_type": "code",
   "execution_count": 29,
   "metadata": {},
   "outputs": [
    {
     "data": {
      "text/plain": [
       "tensor([[ 0.0322,  0.1030,  0.0101, -0.1954,  0.1204, -0.0083, -0.1316,  0.1248,\n",
       "         -0.0175, -0.3583],\n",
       "        [-0.2806, -0.2267, -0.5818, -0.0242, -0.0499,  0.0145, -0.0024,  0.0357,\n",
       "          0.1152, -0.1263]], grad_fn=<SliceBackward0>)"
      ]
     },
     "execution_count": 29,
     "metadata": {},
     "output_type": "execute_result"
    }
   ],
   "source": [
    "outputs[:2]"
   ]
  },
  {
   "cell_type": "code",
   "execution_count": 30,
   "metadata": {},
   "outputs": [
    {
     "name": "stdout",
     "output_type": "stream",
     "text": [
      "Sample probabilities:\n",
      " tensor([[0.1055, 0.1133, 0.1032, 0.0841, 0.1153, 0.1014, 0.0896, 0.1158, 0.1004,\n",
      "         0.0714],\n",
      "        [0.0831, 0.0877, 0.0615, 0.1074, 0.1047, 0.1116, 0.1097, 0.1140, 0.1234,\n",
      "         0.0970]])\n",
      "Sum:  1.0\n"
     ]
    }
   ],
   "source": [
    "# Apply softmax for each output row\n",
    "probs = F.softmax(outputs, dim=1)\n",
    "\n",
    "# Look at sample probabilities\n",
    "print(\"Sample probabilities:\\n\", probs[:2].data)\n",
    "\n",
    "# Add up the probabilities of an output row\n",
    "print(\"Sum: \", torch.sum(probs[0]).item())"
   ]
  },
  {
   "cell_type": "code",
   "execution_count": 31,
   "metadata": {},
   "outputs": [
    {
     "name": "stdout",
     "output_type": "stream",
     "text": [
      "tensor([7, 8, 7, 4, 7, 9, 7, 9, 8, 7, 4, 9, 6, 8, 3, 4, 4, 8, 9, 8, 4, 9, 9, 5,\n",
      "        8, 5, 8, 8, 9, 7, 8, 4, 8, 6, 6, 2, 7, 2, 3, 8, 6, 9, 8, 6, 4, 8, 6, 4,\n",
      "        3, 1, 8, 8, 4, 4, 8, 9, 4, 6, 7, 4, 8, 6, 4, 6, 6, 9, 5, 7, 4, 2, 6, 4,\n",
      "        8, 7, 7, 8, 4, 8, 4, 8, 7, 4, 4, 4, 8, 9, 8, 3, 9, 9, 7, 9, 6, 6, 4, 4,\n",
      "        8, 9, 8, 9, 5, 7, 9, 9, 0, 9, 7, 5, 5, 8, 6, 4, 4, 4, 0, 1, 7, 7, 1, 6,\n",
      "        9, 6, 8, 5, 4, 0, 3, 9])\n",
      "tensor([0.1158, 0.1234, 0.1365, 0.1269, 0.1389, 0.1155, 0.1272, 0.1141, 0.1289,\n",
      "        0.1303, 0.1229, 0.1293, 0.1197, 0.1207, 0.1273, 0.1208, 0.1198, 0.1324,\n",
      "        0.1199, 0.1185, 0.1299, 0.1293, 0.1203, 0.1193, 0.1325, 0.1259, 0.1292,\n",
      "        0.1319, 0.1411, 0.1452, 0.1226, 0.1345, 0.1206, 0.1155, 0.1270, 0.1236,\n",
      "        0.1337, 0.1170, 0.1144, 0.1263, 0.1116, 0.1146, 0.1425, 0.1188, 0.1314,\n",
      "        0.1133, 0.1127, 0.1278, 0.1128, 0.1173, 0.1329, 0.1278, 0.1161, 0.1320,\n",
      "        0.1248, 0.1180, 0.1314, 0.1230, 0.1288, 0.1146, 0.1252, 0.1108, 0.1231,\n",
      "        0.1092, 0.1126, 0.1281, 0.1130, 0.1256, 0.1207, 0.1167, 0.1146, 0.1162,\n",
      "        0.1231, 0.1190, 0.1334, 0.1328, 0.1224, 0.1198, 0.1372, 0.1200, 0.1119,\n",
      "        0.1411, 0.1513, 0.1199, 0.1286, 0.1252, 0.1258, 0.1275, 0.1238, 0.1374,\n",
      "        0.1383, 0.1271, 0.1355, 0.1153, 0.1171, 0.1145, 0.1343, 0.1217, 0.1345,\n",
      "        0.1250, 0.1141, 0.1289, 0.1238, 0.1284, 0.1455, 0.1151, 0.1251, 0.1163,\n",
      "        0.1114, 0.1161, 0.1237, 0.1279, 0.1281, 0.1262, 0.1281, 0.1215, 0.1235,\n",
      "        0.1372, 0.1169, 0.1176, 0.1303, 0.1324, 0.1200, 0.1132, 0.1217, 0.1146,\n",
      "        0.1089, 0.1235], grad_fn=<MaxBackward0>)\n"
     ]
    }
   ],
   "source": [
    "max_probs, preds = torch.max(probs, dim=1)\n",
    "print(preds)\n",
    "print(max_probs)"
   ]
  },
  {
   "cell_type": "code",
   "execution_count": 32,
   "metadata": {},
   "outputs": [
    {
     "data": {
      "text/plain": [
       "tensor([2, 8, 6, 8, 9, 1, 0, 5, 8, 3, 4, 4, 6, 3, 8, 6, 2, 5, 3, 3, 2, 3, 4, 9,\n",
       "        4, 8, 4, 9, 7, 8, 4, 8, 0, 0, 9, 7, 5, 1, 4, 4, 4, 3, 0, 6, 9, 8, 1, 7,\n",
       "        1, 6, 6, 9, 6, 1, 2, 7, 5, 2, 0, 0, 2, 1, 6, 1, 3, 3, 8, 9, 0, 3, 1, 1,\n",
       "        0, 8, 3, 7, 8, 5, 2, 5, 4, 2, 9, 8, 2, 1, 3, 2, 9, 5, 0, 9, 6, 5, 0, 3,\n",
       "        8, 3, 9, 3, 1, 6, 8, 9, 8, 8, 0, 4, 0, 8, 6, 0, 6, 5, 4, 0, 8, 6, 3, 5,\n",
       "        7, 3, 6, 8, 1, 2, 1, 7])"
      ]
     },
     "execution_count": 32,
     "metadata": {},
     "output_type": "execute_result"
    }
   ],
   "source": [
    "labels"
   ]
  },
  {
   "cell_type": "markdown",
   "metadata": {},
   "source": [
    "## Evaluation Metric and Loss Function\n"
   ]
  },
  {
   "cell_type": "code",
   "execution_count": 33,
   "metadata": {},
   "outputs": [
    {
     "data": {
      "text/plain": [
       "tensor([[ 0.0322,  0.1030,  0.0101, -0.1954,  0.1204, -0.0083, -0.1316,  0.1248,\n",
       "         -0.0175, -0.3583],\n",
       "        [-0.2806, -0.2267, -0.5818, -0.0242, -0.0499,  0.0145, -0.0024,  0.0357,\n",
       "          0.1152, -0.1263]], grad_fn=<SliceBackward0>)"
      ]
     },
     "execution_count": 33,
     "metadata": {},
     "output_type": "execute_result"
    }
   ],
   "source": [
    "outputs[:2]"
   ]
  },
  {
   "cell_type": "code",
   "execution_count": 34,
   "metadata": {},
   "outputs": [
    {
     "data": {
      "text/plain": [
       "tensor(13)"
      ]
     },
     "execution_count": 34,
     "metadata": {},
     "output_type": "execute_result"
    }
   ],
   "source": [
    "torch.sum(preds == labels)"
   ]
  },
  {
   "cell_type": "code",
   "execution_count": 35,
   "metadata": {},
   "outputs": [],
   "source": [
    "def accuracy(outputs, labels):\n",
    "    _, preds = torch.max(outputs, dim=1)\n",
    "    return torch.tensor(torch.sum(preds == labels).item() / len(preds))"
   ]
  },
  {
   "cell_type": "code",
   "execution_count": 46,
   "metadata": {},
   "outputs": [
    {
     "data": {
      "text/plain": [
       "tensor(0.1016)"
      ]
     },
     "execution_count": 46,
     "metadata": {},
     "output_type": "execute_result"
    }
   ],
   "source": [
    "accuracy(outputs, labels)"
   ]
  },
  {
   "cell_type": "code",
   "execution_count": 37,
   "metadata": {},
   "outputs": [
    {
     "data": {
      "text/plain": [
       "tensor([[0.1055, 0.1133, 0.1032,  ..., 0.1158, 0.1004, 0.0714],\n",
       "        [0.0831, 0.0877, 0.0615,  ..., 0.1140, 0.1234, 0.0970],\n",
       "        [0.0828, 0.0934, 0.0732,  ..., 0.1365, 0.1162, 0.0796],\n",
       "        ...,\n",
       "        [0.1146, 0.0894, 0.0883,  ..., 0.1101, 0.1035, 0.0935],\n",
       "        [0.0915, 0.1007, 0.0977,  ..., 0.0921, 0.0874, 0.1018],\n",
       "        [0.0844, 0.0954, 0.1186,  ..., 0.1163, 0.1020, 0.1235]],\n",
       "       grad_fn=<SoftmaxBackward0>)"
      ]
     },
     "execution_count": 37,
     "metadata": {},
     "output_type": "execute_result"
    }
   ],
   "source": [
    "probs"
   ]
  },
  {
   "cell_type": "code",
   "execution_count": 38,
   "metadata": {},
   "outputs": [
    {
     "data": {
      "text/plain": [
       "tensor([[ 0.0322,  0.1030,  0.0101,  ...,  0.1248, -0.0175, -0.3583],\n",
       "        [-0.2806, -0.2267, -0.5818,  ...,  0.0357,  0.1152, -0.1263],\n",
       "        [-0.2095, -0.0890, -0.3321,  ...,  0.2909,  0.1292, -0.2482],\n",
       "        ...,\n",
       "        [ 0.0497, -0.1990, -0.2109,  ...,  0.0097, -0.0521, -0.1545],\n",
       "        [-0.0789,  0.0169, -0.0129,  ..., -0.0728, -0.1246,  0.0279],\n",
       "        [-0.1864, -0.0642,  0.1537,  ...,  0.1342,  0.0027,  0.1937]],\n",
       "       grad_fn=<AddmmBackward0>)"
      ]
     },
     "execution_count": 38,
     "metadata": {},
     "output_type": "execute_result"
    }
   ],
   "source": [
    "outputs"
   ]
  },
  {
   "cell_type": "code",
   "execution_count": 39,
   "metadata": {},
   "outputs": [],
   "source": [
    "loss_fn = F.cross_entropy"
   ]
  },
  {
   "cell_type": "code",
   "execution_count": 40,
   "metadata": {},
   "outputs": [
    {
     "name": "stdout",
     "output_type": "stream",
     "text": [
      "tensor(2.2956, grad_fn=<NllLossBackward0>)\n"
     ]
    }
   ],
   "source": [
    "# Loss for current batch of data\n",
    "loss = loss_fn(outputs, labels)\n",
    "print(loss)"
   ]
  },
  {
   "cell_type": "markdown",
   "metadata": {},
   "source": [
    "## Training the model\n"
   ]
  },
  {
   "cell_type": "code",
   "execution_count": 41,
   "metadata": {},
   "outputs": [],
   "source": [
    "def fit(epochs, lr, model, train_loader, val_loader, opt_func=torch.optim.SGD):\n",
    "    optimizer = opt_func(model.parameters(), lr)\n",
    "    history = [] # for recording epoch-wise results\n",
    "    \n",
    "    for epoch in range(epochs):\n",
    "        \n",
    "        # Training Phase \n",
    "        for batch in train_loader:\n",
    "            loss = model.training_step(batch)\n",
    "            loss.backward()\n",
    "            optimizer.step()\n",
    "            optimizer.zero_grad()\n",
    "        \n",
    "        # Validation phase\n",
    "        result = evaluate(model, val_loader)\n",
    "        model.epoch_end(epoch, result)\n",
    "        history.append(result)\n",
    "\n",
    "    return history"
   ]
  },
  {
   "cell_type": "code",
   "execution_count": 42,
   "metadata": {},
   "outputs": [],
   "source": [
    "def evaluate(model, val_loader):\n",
    "    outputs = [model.validation_step(batch) for batch in val_loader]\n",
    "    return model.validation_epoch_end(outputs)"
   ]
  },
  {
   "cell_type": "code",
   "execution_count": 43,
   "metadata": {},
   "outputs": [],
   "source": [
    "class MnistModel(nn.Module):\n",
    "    def __init__(self):\n",
    "        super().__init__()\n",
    "        self.linear = nn.Linear(input_size, num_classes)\n",
    "        \n",
    "    def forward(self, xb):\n",
    "        xb = xb.reshape(-1, 784)\n",
    "        out = self.linear(xb)\n",
    "        return out\n",
    "    \n",
    "    def training_step(self, batch):\n",
    "        images, labels = batch \n",
    "        out = self(images)                  # Generate predictions\n",
    "        loss = F.cross_entropy(out, labels) # Calculate loss\n",
    "        return loss\n",
    "    \n",
    "    def validation_step(self, batch):\n",
    "        images, labels = batch \n",
    "        out = self(images)                    # Generate predictions\n",
    "        loss = F.cross_entropy(out, labels)   # Calculate loss\n",
    "        acc = accuracy(out, labels)           # Calculate accuracy\n",
    "        return {'val_loss': loss, 'val_acc': acc}\n",
    "        \n",
    "    def validation_epoch_end(self, outputs):\n",
    "        batch_losses = [x['val_loss'] for x in outputs]\n",
    "        epoch_loss = torch.stack(batch_losses).mean()   # Combine losses\n",
    "        batch_accs = [x['val_acc'] for x in outputs]\n",
    "        epoch_acc = torch.stack(batch_accs).mean()      # Combine accuracies\n",
    "        return {'val_loss': epoch_loss.item(), 'val_acc': epoch_acc.item()}\n",
    "    \n",
    "    def epoch_end(self, epoch, result):\n",
    "        print(\"Epoch [{}], val_loss: {:.4f}, val_acc: {:.4f}\".format(epoch, result['val_loss'], result['val_acc']))\n",
    "    \n",
    "model = MnistModel()"
   ]
  },
  {
   "cell_type": "code",
   "execution_count": 44,
   "metadata": {},
   "outputs": [
    {
     "data": {
      "text/plain": [
       "{'val_loss': 2.304319381713867, 'val_acc': 0.11145173758268356}"
      ]
     },
     "execution_count": 44,
     "metadata": {},
     "output_type": "execute_result"
    }
   ],
   "source": [
    "result0 = evaluate(model, val_loader)\n",
    "result0"
   ]
  },
  {
   "cell_type": "code",
   "execution_count": 45,
   "metadata": {},
   "outputs": [
    {
     "name": "stdout",
     "output_type": "stream",
     "text": [
      "Epoch [0], val_loss: 1.9399, val_acc: 0.6332\n",
      "Epoch [1], val_loss: 1.6704, val_acc: 0.7420\n",
      "Epoch [2], val_loss: 1.4692, val_acc: 0.7755\n",
      "Epoch [3], val_loss: 1.3175, val_acc: 0.7933\n",
      "Epoch [4], val_loss: 1.2008, val_acc: 0.8039\n"
     ]
    }
   ],
   "source": [
    "history1 = fit(5, 0.001, model, train_loader, val_loader)"
   ]
  },
  {
   "cell_type": "code",
   "execution_count": 47,
   "metadata": {},
   "outputs": [
    {
     "name": "stdout",
     "output_type": "stream",
     "text": [
      "Epoch [0], val_loss: 1.1093, val_acc: 0.8146\n",
      "Epoch [1], val_loss: 1.0359, val_acc: 0.8206\n",
      "Epoch [2], val_loss: 0.9758, val_acc: 0.8262\n",
      "Epoch [3], val_loss: 0.9258, val_acc: 0.8316\n",
      "Epoch [4], val_loss: 0.8836, val_acc: 0.8348\n"
     ]
    }
   ],
   "source": [
    "history2 = fit(5, 0.001, model, train_loader, val_loader)"
   ]
  },
  {
   "cell_type": "code",
   "execution_count": 49,
   "metadata": {},
   "outputs": [
    {
     "name": "stdout",
     "output_type": "stream",
     "text": [
      "Epoch [0], val_loss: 0.8473, val_acc: 0.8384\n",
      "Epoch [1], val_loss: 0.8159, val_acc: 0.8410\n",
      "Epoch [2], val_loss: 0.7885, val_acc: 0.8430\n",
      "Epoch [3], val_loss: 0.7642, val_acc: 0.8456\n",
      "Epoch [4], val_loss: 0.7425, val_acc: 0.8479\n"
     ]
    }
   ],
   "source": [
    "history3 = fit(5, 0.001, model, train_loader, val_loader)"
   ]
  },
  {
   "cell_type": "code",
   "execution_count": 50,
   "metadata": {},
   "outputs": [
    {
     "name": "stdout",
     "output_type": "stream",
     "text": [
      "Epoch [0], val_loss: 0.7231, val_acc: 0.8503\n",
      "Epoch [1], val_loss: 0.7055, val_acc: 0.8520\n",
      "Epoch [2], val_loss: 0.6895, val_acc: 0.8549\n",
      "Epoch [3], val_loss: 0.6750, val_acc: 0.8566\n",
      "Epoch [4], val_loss: 0.6617, val_acc: 0.8580\n"
     ]
    }
   ],
   "source": [
    "history4 = fit(5, 0.001, model, train_loader, val_loader)"
   ]
  },
  {
   "cell_type": "code",
   "execution_count": 51,
   "metadata": {},
   "outputs": [
    {
     "data": {
      "image/png": "[encoded data removed]",
      "text/plain": [
       "<Figure size 640x480 with 1 Axes>"
      ]
     },
     "metadata": {},
     "output_type": "display_data"
    }
   ],
   "source": [
    "history = [result0] + history1 + history2 + history3 + history4\n",
    "accuracies = [result['val_acc'] for result in history]\n",
    "plt.plot(accuracies, '-x')\n",
    "plt.xlabel('epoch')\n",
    "plt.ylabel('accuracy')\n",
    "plt.title('Accuracy vs. No. of epochs');"
   ]
  },
  {
   "cell_type": "markdown",
   "metadata": {},
   "source": [
    "## Testing with individual images\n"
   ]
  },
  {
   "cell_type": "code",
   "execution_count": 52,
   "metadata": {},
   "outputs": [],
   "source": [
    "# Define test dataset\n",
    "test_dataset = MNIST(root='../GANS/', \n",
    "                     train=False,\n",
    "                     transform=transforms.ToTensor())"
   ]
  },
  {
   "cell_type": "code",
   "execution_count": 53,
   "metadata": {},
   "outputs": [
    {
     "name": "stdout",
     "output_type": "stream",
     "text": [
      "Shape: torch.Size([1, 28, 28])\n",
      "Label: 7\n"
     ]
    },
    {
     "data": {
      "image/png": "[encoded data removed]",
      "text/plain": [
       "<Figure size 640x480 with 1 Axes>"
      ]
     },
     "metadata": {},
     "output_type": "display_data"
    }
   ],
   "source": [
    "img, label = test_dataset[0]\n",
    "plt.imshow(img[0], cmap='gray')\n",
    "print('Shape:', img.shape)\n",
    "print('Label:', label)"
   ]
  },
  {
   "cell_type": "code",
   "execution_count": 54,
   "metadata": {},
   "outputs": [],
   "source": [
    "def predict_image(img, model):\n",
    "    xb = img.unsqueeze(0)\n",
    "    yb = model(xb)\n",
    "    _, preds = torch.max(yb, dim=1)\n",
    "    return preds[0].item()"
   ]
  },
  {
   "cell_type": "code",
   "execution_count": 55,
   "metadata": {},
   "outputs": [
    {
     "name": "stdout",
     "output_type": "stream",
     "text": [
      "Label: 7 , Predicted: 7\n"
     ]
    },
    {
     "data": {
      "image/png": "[encoded data removed]",
      "text/plain": [
       "<Figure size 640x480 with 1 Axes>"
      ]
     },
     "metadata": {},
     "output_type": "display_data"
    }
   ],
   "source": [
    "img, label = test_dataset[0]\n",
    "plt.imshow(img[0], cmap='gray')\n",
    "print('Label:', label, ', Predicted:', predict_image(img, model))"
   ]
  },
  {
   "cell_type": "code",
   "execution_count": 56,
   "metadata": {},
   "outputs": [
    {
     "name": "stdout",
     "output_type": "stream",
     "text": [
      "Label: 0 , Predicted: 0\n"
     ]
    },
    {
     "data": {
      "image/png": "[encoded data removed]",
      "text/plain": [
       "<Figure size 640x480 with 1 Axes>"
      ]
     },
     "metadata": {},
     "output_type": "display_data"
    }
   ],
   "source": [
    "img, label = test_dataset[10]\n",
    "plt.imshow(img[0], cmap='gray')\n",
    "print('Label:', label, ', Predicted:', predict_image(img, model))"
   ]
  },
  {
   "cell_type": "code",
   "execution_count": 57,
   "metadata": {},
   "outputs": [
    {
     "name": "stdout",
     "output_type": "stream",
     "text": [
      "Label: 9 , Predicted: 3\n"
     ]
    },
    {
     "data": {
      "image/png": "[encoded data removed]",
      "text/plain": [
       "<Figure size 640x480 with 1 Axes>"
      ]
     },
     "metadata": {},
     "output_type": "display_data"
    }
   ],
   "source": [
    "img, label = test_dataset[193]\n",
    "plt.imshow(img[0], cmap='gray')\n",
    "print('Label:', label, ', Predicted:', predict_image(img, model))"
   ]
  },
  {
   "cell_type": "code",
   "execution_count": 68,
   "metadata": {},
   "outputs": [
    {
     "name": "stdout",
     "output_type": "stream",
     "text": [
      "Label: 2 , Predicted: 8\n"
     ]
    },
    {
     "data": {
      "image/png": "[encoded data removed]",
      "text/plain": [
       "<Figure size 640x480 with 1 Axes>"
      ]
     },
     "metadata": {},
     "output_type": "display_data"
    }
   ],
   "source": [
    "img, label = test_dataset[1839]\n",
    "plt.imshow(img[0], cmap='gray')\n",
    "print('Label:', label, ', Predicted:', predict_image(img, model))"
   ]
  },
  {
   "cell_type": "code",
   "execution_count": 59,
   "metadata": {},
   "outputs": [
    {
     "data": {
      "text/plain": [
       "{'val_loss': 0.641363263130188, 'val_acc': 0.8594726324081421}"
      ]
     },
     "execution_count": 59,
     "metadata": {},
     "output_type": "execute_result"
    }
   ],
   "source": [
    "test_loader = DataLoader(test_dataset, batch_size=256)\n",
    "result = evaluate(model, test_loader)\n",
    "result"
   ]
  },
  {
   "cell_type": "markdown",
   "metadata": {},
   "source": [
    "### Saving and loading the model\n"
   ]
  },
  {
   "cell_type": "code",
   "execution_count": 60,
   "metadata": {},
   "outputs": [],
   "source": [
    "torch.save(model.state_dict(), 'mnist-logistic.pth')"
   ]
  },
  {
   "cell_type": "code",
   "execution_count": 61,
   "metadata": {},
   "outputs": [
    {
     "data": {
      "text/plain": [
       "OrderedDict([('linear.weight',\n",
       "              tensor([[ 0.0211, -0.0150,  0.0329,  ...,  0.0108,  0.0046,  0.0082],\n",
       "                      [-0.0136,  0.0177, -0.0253,  ...,  0.0220, -0.0175, -0.0134],\n",
       "                      [-0.0186, -0.0174,  0.0032,  ..., -0.0054,  0.0037, -0.0080],\n",
       "                      ...,\n",
       "                      [ 0.0034, -0.0104, -0.0084,  ..., -0.0310, -0.0002, -0.0178],\n",
       "                      [ 0.0199,  0.0222, -0.0118,  ...,  0.0048,  0.0053, -0.0069],\n",
       "                      [ 0.0326, -0.0105, -0.0078,  ..., -0.0078,  0.0076,  0.0277]])),\n",
       "             ('linear.bias',\n",
       "              tensor([-0.0386,  0.0845, -0.0093, -0.0005,  0.0068,  0.0101, -0.0152,  0.0217,\n",
       "                      -0.0825, -0.0084]))])"
      ]
     },
     "execution_count": 61,
     "metadata": {},
     "output_type": "execute_result"
    }
   ],
   "source": [
    "model.state_dict()"
   ]
  },
  {
   "cell_type": "code",
   "execution_count": 62,
   "metadata": {},
   "outputs": [],
   "source": [
    "model2 = MnistModel()"
   ]
  },
  {
   "cell_type": "code",
   "execution_count": 63,
   "metadata": {},
   "outputs": [
    {
     "data": {
      "text/plain": [
       "OrderedDict([('linear.weight',\n",
       "              tensor([[ 0.0275,  0.0237, -0.0094,  ...,  0.0026, -0.0248,  0.0028],\n",
       "                      [ 0.0014,  0.0181, -0.0289,  ..., -0.0006,  0.0076,  0.0173],\n",
       "                      [-0.0171,  0.0177,  0.0002,  ..., -0.0091, -0.0022, -0.0312],\n",
       "                      ...,\n",
       "                      [ 0.0319, -0.0143, -0.0279,  ..., -0.0260,  0.0307, -0.0220],\n",
       "                      [-0.0333, -0.0196, -0.0205,  ...,  0.0124,  0.0231, -0.0184],\n",
       "                      [-0.0070, -0.0011,  0.0093,  ...,  0.0086,  0.0301,  0.0179]])),\n",
       "             ('linear.bias',\n",
       "              tensor([-0.0325,  0.0125,  0.0218, -0.0251,  0.0346,  0.0078, -0.0341,  0.0263,\n",
       "                       0.0027,  0.0173]))])"
      ]
     },
     "execution_count": 63,
     "metadata": {},
     "output_type": "execute_result"
    }
   ],
   "source": [
    "model2.state_dict()"
   ]
  },
  {
   "cell_type": "code",
   "execution_count": 64,
   "metadata": {},
   "outputs": [
    {
     "data": {
      "text/plain": [
       "{'val_loss': 2.3471343517303467, 'val_acc': 0.11005859076976776}"
      ]
     },
     "execution_count": 64,
     "metadata": {},
     "output_type": "execute_result"
    }
   ],
   "source": [
    "evaluate(model2, test_loader)"
   ]
  },
  {
   "cell_type": "code",
   "execution_count": 65,
   "metadata": {},
   "outputs": [
    {
     "data": {
      "text/plain": [
       "OrderedDict([('linear.weight',\n",
       "              tensor([[ 0.0211, -0.0150,  0.0329,  ...,  0.0108,  0.0046,  0.0082],\n",
       "                      [-0.0136,  0.0177, -0.0253,  ...,  0.0220, -0.0175, -0.0134],\n",
       "                      [-0.0186, -0.0174,  0.0032,  ..., -0.0054,  0.0037, -0.0080],\n",
       "                      ...,\n",
       "                      [ 0.0034, -0.0104, -0.0084,  ..., -0.0310, -0.0002, -0.0178],\n",
       "                      [ 0.0199,  0.0222, -0.0118,  ...,  0.0048,  0.0053, -0.0069],\n",
       "                      [ 0.0326, -0.0105, -0.0078,  ..., -0.0078,  0.0076,  0.0277]])),\n",
       "             ('linear.bias',\n",
       "              tensor([-0.0386,  0.0845, -0.0093, -0.0005,  0.0068,  0.0101, -0.0152,  0.0217,\n",
       "                      -0.0825, -0.0084]))])"
      ]
     },
     "execution_count": 65,
     "metadata": {},
     "output_type": "execute_result"
    }
   ],
   "source": [
    "model2.load_state_dict(torch.load('mnist-logistic.pth'))\n",
    "model2.state_dict()"
   ]
  },
  {
   "cell_type": "code",
   "execution_count": 66,
   "metadata": {},
   "outputs": [
    {
     "data": {
      "text/plain": [
       "{'val_loss': 0.641363263130188, 'val_acc': 0.8594726324081421}"
      ]
     },
     "execution_count": 66,
     "metadata": {},
     "output_type": "execute_result"
    }
   ],
   "source": [
    "test_loader = DataLoader(test_dataset, batch_size=256)\n",
    "result = evaluate(model2, test_loader)\n",
    "result"
   ]
  }
 ],
 "metadata": {
  "kernelspec": {
   "display_name": "base",
   "language": "python",
   "name": "python3"
  },
  "language_info": {
   "codemirror_mode": {
    "name": "ipython",
    "version": 3
   },
   "file_extension": ".py",
   "mimetype": "text/x-python",
   "name": "python",
   "nbconvert_exporter": "python",
   "pygments_lexer": "ipython3",
   "version": "3.11.7"
  }
 },
 "nbformat": 4,
 "nbformat_minor": 2
}
